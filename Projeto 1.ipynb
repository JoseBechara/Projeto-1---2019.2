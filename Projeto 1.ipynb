{
 "cells": [
  {
   "cell_type": "markdown",
   "metadata": {},
   "source": [
    "# Projeto 1 - José Antônio Bechara"
   ]
  },
  {
   "cell_type": "markdown",
   "metadata": {},
   "source": [
    "### O ingresso na União Europeia contribuiu para a melhoria na qualidade de vida (IDH) e economia (PIB) dos países membros ? \n"
   ]
  },
  {
   "cell_type": "markdown",
   "metadata": {},
   "source": [
    "### Mecanismo:\n",
    "<br>\n",
    "https://europa.eu/european-union/about-eu/figures/economy_pt"
   ]
  },
  {
   "cell_type": "markdown",
   "metadata": {},
   "source": [
    "#### De acordo com o próprio site da União Europeia, há uma enorme troca comercial entre seus países membros:\n",
    "\n",
    "##### (\"Mais de 64% das trocas comerciais dos países da UE realizam-se com outros países da UE. Embora a UE represente apenas 6,9% da população mundial, as suas trocas comerciais com o resto do mundo correspondem, aproximadamente, a 15,6% das exportações e importações mundiais.\")\n",
    "#### Isso mostra que países membros podem ter sua economia fortificada por meio das trocas comerciais entre  eles mesmos e assim se tornarem uma economia fortificada e independente do resto dos países que não fazem parte da UE. <br> Com a economia mais consolidada é possível observar melhorias na qualidade de vida deste grupo.\n",
    "\n",
    "#### Vamos medir esses fatores por meio do PIB *per capita*, IDH e Importações (% do PIB), comparando os dados de antes com os dados após o ingresso na UE . Com a taxa de importações é possível ter um controle dos investimentos feitos aos países analisados e assim comparar com o PIB e o IDH para conseguir medir se houve ou não vantagem aos países se tornarem membros da União Europeia. "
   ]
  },
  {
   "cell_type": "markdown",
   "metadata": {},
   "source": [
    "### Países a serem analisados:\n",
    "\n",
    "#### Cyprus\n",
    "#### Czech Republic\n",
    "#### Estonia\n",
    "#### Hungary\n",
    "#### Latvia\n",
    "#### Lithuania\n",
    "#### Malta\n",
    "#### Poland\n",
    "#### Slovakia\n",
    "#### Slovenia\n",
    "\n",
    "### Ano de ingresso: 2004"
   ]
  },
  {
   "cell_type": "markdown",
   "metadata": {},
   "source": [
    "### Links dos dados:\n",
    "https://data.worldbank.org/indicator/NE.IMP.GNFS.ZS\n",
    "<br>\n",
    "https://hdr.undp.org/en\n",
    "<br>\n",
    "http://gapm.io/dgdppc"
   ]
  },
  {
   "cell_type": "markdown",
   "metadata": {},
   "source": [
    "### Link para o GitHub:\n",
    "https://github.com/JoseBechara/Projeto-1---2019.2.git"
   ]
  },
  {
   "cell_type": "markdown",
   "metadata": {},
   "source": [
    "#### De acordo com o próprio site da União Europeia, há uma enorme troca comercial entre seus países membros:\n",
    "\n",
    "##### (\"Mais de 64% das trocas comerciais dos países da UE realizam-se com outros países da UE. Embora a UE represente apenas 6,9% da população mundial, as suas trocas comerciais com o resto do mundo correspondem, aproximadamente, a 15,6% das exportações e importações mundiais.\")\n",
    "#### Isso mostra que países membros podem ter sua economia fortificada por meio das trocas comerciais entre os eles mesmos e assim se tornarem uma economia fortificada e independente do resto dos países que não fazem parte da UE. <br> Com a economia mais consolidada é possível observar melhorias na qualidade de vida deste grupo.\n",
    "\n",
    "#### Vamos medir esses fatores por meio do PIB per capita, IDH e Importações (% do PIB). Com a taxa de importações é possível ter um controle dos investimentos feitos aos países analisados e assim comparar com o PIB e o IDH para conseguir medir se houve ou não vantagem aos países se tornarem membros da União Europeia.\n",
    "\n",
    "#### Usaremos também um grupo de controle, constituído pelos países pioneiros no bloco. Uma vez que eles possuem economias mais consolidadas nos possibilitando comparar os dados dos países analizados com os países do grupo de controle e assim observar se houve de fato melhorias nos nos países ingressados recentemente."
   ]
  },
  {
   "cell_type": "markdown",
   "metadata": {},
   "source": [
    "---"
   ]
  },
  {
   "cell_type": "code",
   "execution_count": 1,
   "metadata": {},
   "outputs": [],
   "source": [
    "%matplotlib inline\n",
    "import pandas as pd\n",
    "import numpy as np\n",
    "import math as math\n",
    "from scipy import stats\n",
    "import matplotlib.pyplot as plt"
   ]
  },
  {
   "cell_type": "code",
   "execution_count": 2,
   "metadata": {},
   "outputs": [],
   "source": [
    "#Leitura dos arquivos em Excel\n",
    "IDH = pd.read_excel('Indicator_HDI.xlsx')\n",
    "PIB = pd.read_excel('GDPpercapita.xlsx')\n",
    "Exports = pd.read_excel('Exports(percent_of_GDP).xlsx')"
   ]
  },
  {
   "cell_type": "markdown",
   "metadata": {},
   "source": [
    "### Países membros da UE"
   ]
  },
  {
   "cell_type": "code",
   "execution_count": 3,
   "metadata": {},
   "outputs": [],
   "source": [
    "UE = [\"Austria\", \"Belgium\", \"Bulgaria\", \"Croatia\", \n",
    "      \"Cyprus\", \"Czech Republic\", \"Denmark\", \"Estonia\", \"Finland\",\n",
    "      \"France\", \"Germany\", \"Greece\", \"Hungary\", \"Ireland\",\n",
    "      \"Italy\", \"Latvia\", \"Lithuania\", \"Luxemburgo\", \"Malta\",\n",
    "      \"Netherlands\", \"Poland\", \"Portugal\", \"Romania\", \"Slovak Republic\",\n",
    "      \"Slovenia\", \"Spain\", \"Sweden\", \"United Kingdom\"]"
   ]
  },
  {
   "cell_type": "markdown",
   "metadata": {},
   "source": [
    "## IDH"
   ]
  },
  {
   "cell_type": "code",
   "execution_count": 4,
   "metadata": {},
   "outputs": [
    {
     "data": {
      "text/html": [
       "<div>\n",
       "<style scoped>\n",
       "    .dataframe tbody tr th:only-of-type {\n",
       "        vertical-align: middle;\n",
       "    }\n",
       "\n",
       "    .dataframe tbody tr th {\n",
       "        vertical-align: top;\n",
       "    }\n",
       "\n",
       "    .dataframe thead th {\n",
       "        text-align: right;\n",
       "    }\n",
       "</style>\n",
       "<table border=\"1\" class=\"dataframe\">\n",
       "  <thead>\n",
       "    <tr style=\"text-align: right;\">\n",
       "      <th></th>\n",
       "      <th>HDI</th>\n",
       "      <th>1980</th>\n",
       "      <th>1990</th>\n",
       "      <th>2000</th>\n",
       "      <th>2005</th>\n",
       "      <th>2006</th>\n",
       "      <th>2007</th>\n",
       "      <th>2008</th>\n",
       "      <th>2009</th>\n",
       "      <th>2011</th>\n",
       "    </tr>\n",
       "  </thead>\n",
       "  <tbody>\n",
       "    <tr>\n",
       "      <th>0</th>\n",
       "      <td>Abkhazia</td>\n",
       "      <td>NaN</td>\n",
       "      <td>NaN</td>\n",
       "      <td>NaN</td>\n",
       "      <td>NaN</td>\n",
       "      <td>NaN</td>\n",
       "      <td>NaN</td>\n",
       "      <td>NaN</td>\n",
       "      <td>NaN</td>\n",
       "      <td>NaN</td>\n",
       "    </tr>\n",
       "    <tr>\n",
       "      <th>1</th>\n",
       "      <td>Afghanistan</td>\n",
       "      <td>0.198</td>\n",
       "      <td>0.246</td>\n",
       "      <td>0.230</td>\n",
       "      <td>0.340</td>\n",
       "      <td>0.354</td>\n",
       "      <td>0.363</td>\n",
       "      <td>0.370</td>\n",
       "      <td>0.387</td>\n",
       "      <td>0.398</td>\n",
       "    </tr>\n",
       "    <tr>\n",
       "      <th>2</th>\n",
       "      <td>Akrotiri and Dhekelia</td>\n",
       "      <td>NaN</td>\n",
       "      <td>NaN</td>\n",
       "      <td>NaN</td>\n",
       "      <td>NaN</td>\n",
       "      <td>NaN</td>\n",
       "      <td>NaN</td>\n",
       "      <td>NaN</td>\n",
       "      <td>NaN</td>\n",
       "      <td>NaN</td>\n",
       "    </tr>\n",
       "    <tr>\n",
       "      <th>3</th>\n",
       "      <td>Albania</td>\n",
       "      <td>NaN</td>\n",
       "      <td>0.656</td>\n",
       "      <td>0.691</td>\n",
       "      <td>0.721</td>\n",
       "      <td>0.724</td>\n",
       "      <td>0.729</td>\n",
       "      <td>0.733</td>\n",
       "      <td>0.734</td>\n",
       "      <td>0.739</td>\n",
       "    </tr>\n",
       "    <tr>\n",
       "      <th>4</th>\n",
       "      <td>Algeria</td>\n",
       "      <td>0.454</td>\n",
       "      <td>0.551</td>\n",
       "      <td>0.624</td>\n",
       "      <td>0.667</td>\n",
       "      <td>0.673</td>\n",
       "      <td>0.680</td>\n",
       "      <td>0.686</td>\n",
       "      <td>0.691</td>\n",
       "      <td>0.698</td>\n",
       "    </tr>\n",
       "  </tbody>\n",
       "</table>\n",
       "</div>"
      ],
      "text/plain": [
       "                     HDI   1980   1990   2000   2005   2006   2007   2008  \\\n",
       "0               Abkhazia    NaN    NaN    NaN    NaN    NaN    NaN    NaN   \n",
       "1            Afghanistan  0.198  0.246  0.230  0.340  0.354  0.363  0.370   \n",
       "2  Akrotiri and Dhekelia    NaN    NaN    NaN    NaN    NaN    NaN    NaN   \n",
       "3                Albania    NaN  0.656  0.691  0.721  0.724  0.729  0.733   \n",
       "4                Algeria  0.454  0.551  0.624  0.667  0.673  0.680  0.686   \n",
       "\n",
       "    2009   2011  \n",
       "0    NaN    NaN  \n",
       "1  0.387  0.398  \n",
       "2    NaN    NaN  \n",
       "3  0.734  0.739  \n",
       "4  0.691  0.698  "
      ]
     },
     "execution_count": 4,
     "metadata": {},
     "output_type": "execute_result"
    }
   ],
   "source": [
    "IDH.head()"
   ]
  },
  {
   "cell_type": "markdown",
   "metadata": {},
   "source": [
    "## PIB"
   ]
  },
  {
   "cell_type": "code",
   "execution_count": 5,
   "metadata": {},
   "outputs": [
    {
     "data": {
      "text/html": [
       "<div>\n",
       "<style scoped>\n",
       "    .dataframe tbody tr th:only-of-type {\n",
       "        vertical-align: middle;\n",
       "    }\n",
       "\n",
       "    .dataframe tbody tr th {\n",
       "        vertical-align: top;\n",
       "    }\n",
       "\n",
       "    .dataframe thead th {\n",
       "        text-align: right;\n",
       "    }\n",
       "</style>\n",
       "<table border=\"1\" class=\"dataframe\">\n",
       "  <thead>\n",
       "    <tr style=\"text-align: right;\">\n",
       "      <th></th>\n",
       "      <th>Income per person (fixed 2000 US$)</th>\n",
       "      <th>1960</th>\n",
       "      <th>1961</th>\n",
       "      <th>1962</th>\n",
       "      <th>1963</th>\n",
       "      <th>1964</th>\n",
       "      <th>1965</th>\n",
       "      <th>1966</th>\n",
       "      <th>1967</th>\n",
       "      <th>1968</th>\n",
       "      <th>...</th>\n",
       "      <th>2002</th>\n",
       "      <th>2003</th>\n",
       "      <th>2004</th>\n",
       "      <th>2005</th>\n",
       "      <th>2006</th>\n",
       "      <th>2007</th>\n",
       "      <th>2008</th>\n",
       "      <th>2009</th>\n",
       "      <th>2010</th>\n",
       "      <th>2011</th>\n",
       "    </tr>\n",
       "  </thead>\n",
       "  <tbody>\n",
       "    <tr>\n",
       "      <th>0</th>\n",
       "      <td>Abkhazia</td>\n",
       "      <td>NaN</td>\n",
       "      <td>NaN</td>\n",
       "      <td>NaN</td>\n",
       "      <td>NaN</td>\n",
       "      <td>NaN</td>\n",
       "      <td>NaN</td>\n",
       "      <td>NaN</td>\n",
       "      <td>NaN</td>\n",
       "      <td>NaN</td>\n",
       "      <td>...</td>\n",
       "      <td>NaN</td>\n",
       "      <td>NaN</td>\n",
       "      <td>NaN</td>\n",
       "      <td>NaN</td>\n",
       "      <td>NaN</td>\n",
       "      <td>NaN</td>\n",
       "      <td>NaN</td>\n",
       "      <td>NaN</td>\n",
       "      <td>NaN</td>\n",
       "      <td>NaN</td>\n",
       "    </tr>\n",
       "    <tr>\n",
       "      <th>1</th>\n",
       "      <td>Afghanistan</td>\n",
       "      <td>NaN</td>\n",
       "      <td>NaN</td>\n",
       "      <td>NaN</td>\n",
       "      <td>NaN</td>\n",
       "      <td>NaN</td>\n",
       "      <td>NaN</td>\n",
       "      <td>NaN</td>\n",
       "      <td>NaN</td>\n",
       "      <td>NaN</td>\n",
       "      <td>...</td>\n",
       "      <td>NaN</td>\n",
       "      <td>NaN</td>\n",
       "      <td>NaN</td>\n",
       "      <td>NaN</td>\n",
       "      <td>NaN</td>\n",
       "      <td>NaN</td>\n",
       "      <td>NaN</td>\n",
       "      <td>NaN</td>\n",
       "      <td>NaN</td>\n",
       "      <td>NaN</td>\n",
       "    </tr>\n",
       "    <tr>\n",
       "      <th>2</th>\n",
       "      <td>Akrotiri and Dhekelia</td>\n",
       "      <td>NaN</td>\n",
       "      <td>NaN</td>\n",
       "      <td>NaN</td>\n",
       "      <td>NaN</td>\n",
       "      <td>NaN</td>\n",
       "      <td>NaN</td>\n",
       "      <td>NaN</td>\n",
       "      <td>NaN</td>\n",
       "      <td>NaN</td>\n",
       "      <td>...</td>\n",
       "      <td>NaN</td>\n",
       "      <td>NaN</td>\n",
       "      <td>NaN</td>\n",
       "      <td>NaN</td>\n",
       "      <td>NaN</td>\n",
       "      <td>NaN</td>\n",
       "      <td>NaN</td>\n",
       "      <td>NaN</td>\n",
       "      <td>NaN</td>\n",
       "      <td>NaN</td>\n",
       "    </tr>\n",
       "    <tr>\n",
       "      <th>3</th>\n",
       "      <td>Albania</td>\n",
       "      <td>NaN</td>\n",
       "      <td>NaN</td>\n",
       "      <td>NaN</td>\n",
       "      <td>NaN</td>\n",
       "      <td>NaN</td>\n",
       "      <td>NaN</td>\n",
       "      <td>NaN</td>\n",
       "      <td>NaN</td>\n",
       "      <td>NaN</td>\n",
       "      <td>...</td>\n",
       "      <td>1313.722725</td>\n",
       "      <td>1381.040832</td>\n",
       "      <td>1454.022854</td>\n",
       "      <td>1525.723589</td>\n",
       "      <td>1594.495067</td>\n",
       "      <td>1681.613910</td>\n",
       "      <td>1804.419415</td>\n",
       "      <td>1857.352947</td>\n",
       "      <td>1915.424459</td>\n",
       "      <td>1965.707230</td>\n",
       "    </tr>\n",
       "    <tr>\n",
       "      <th>4</th>\n",
       "      <td>Algeria</td>\n",
       "      <td>1280.384828</td>\n",
       "      <td>1085.414612</td>\n",
       "      <td>855.947986</td>\n",
       "      <td>1128.41578</td>\n",
       "      <td>1170.323896</td>\n",
       "      <td>1215.015783</td>\n",
       "      <td>1127.614288</td>\n",
       "      <td>1200.558225</td>\n",
       "      <td>1291.863983</td>\n",
       "      <td>...</td>\n",
       "      <td>1871.921986</td>\n",
       "      <td>1971.512803</td>\n",
       "      <td>2043.135713</td>\n",
       "      <td>2115.186028</td>\n",
       "      <td>2124.957754</td>\n",
       "      <td>2155.485231</td>\n",
       "      <td>2173.787903</td>\n",
       "      <td>2192.703976</td>\n",
       "      <td>2231.980246</td>\n",
       "      <td>2255.225482</td>\n",
       "    </tr>\n",
       "  </tbody>\n",
       "</table>\n",
       "<p>5 rows × 53 columns</p>\n",
       "</div>"
      ],
      "text/plain": [
       "  Income per person (fixed 2000 US$)         1960         1961        1962  \\\n",
       "0                           Abkhazia          NaN          NaN         NaN   \n",
       "1                        Afghanistan          NaN          NaN         NaN   \n",
       "2              Akrotiri and Dhekelia          NaN          NaN         NaN   \n",
       "3                            Albania          NaN          NaN         NaN   \n",
       "4                            Algeria  1280.384828  1085.414612  855.947986   \n",
       "\n",
       "         1963         1964         1965         1966         1967  \\\n",
       "0         NaN          NaN          NaN          NaN          NaN   \n",
       "1         NaN          NaN          NaN          NaN          NaN   \n",
       "2         NaN          NaN          NaN          NaN          NaN   \n",
       "3         NaN          NaN          NaN          NaN          NaN   \n",
       "4  1128.41578  1170.323896  1215.015783  1127.614288  1200.558225   \n",
       "\n",
       "          1968     ...              2002         2003         2004  \\\n",
       "0          NaN     ...               NaN          NaN          NaN   \n",
       "1          NaN     ...               NaN          NaN          NaN   \n",
       "2          NaN     ...               NaN          NaN          NaN   \n",
       "3          NaN     ...       1313.722725  1381.040832  1454.022854   \n",
       "4  1291.863983     ...       1871.921986  1971.512803  2043.135713   \n",
       "\n",
       "          2005         2006         2007         2008         2009  \\\n",
       "0          NaN          NaN          NaN          NaN          NaN   \n",
       "1          NaN          NaN          NaN          NaN          NaN   \n",
       "2          NaN          NaN          NaN          NaN          NaN   \n",
       "3  1525.723589  1594.495067  1681.613910  1804.419415  1857.352947   \n",
       "4  2115.186028  2124.957754  2155.485231  2173.787903  2192.703976   \n",
       "\n",
       "          2010         2011  \n",
       "0          NaN          NaN  \n",
       "1          NaN          NaN  \n",
       "2          NaN          NaN  \n",
       "3  1915.424459  1965.707230  \n",
       "4  2231.980246  2255.225482  \n",
       "\n",
       "[5 rows x 53 columns]"
      ]
     },
     "execution_count": 5,
     "metadata": {},
     "output_type": "execute_result"
    }
   ],
   "source": [
    "PIB.head()"
   ]
  },
  {
   "cell_type": "markdown",
   "metadata": {},
   "source": [
    "## Exportações (% do PIB) "
   ]
  },
  {
   "cell_type": "code",
   "execution_count": 6,
   "metadata": {},
   "outputs": [
    {
     "data": {
      "text/html": [
       "<div>\n",
       "<style scoped>\n",
       "    .dataframe tbody tr th:only-of-type {\n",
       "        vertical-align: middle;\n",
       "    }\n",
       "\n",
       "    .dataframe tbody tr th {\n",
       "        vertical-align: top;\n",
       "    }\n",
       "\n",
       "    .dataframe thead th {\n",
       "        text-align: right;\n",
       "    }\n",
       "</style>\n",
       "<table border=\"1\" class=\"dataframe\">\n",
       "  <thead>\n",
       "    <tr style=\"text-align: right;\">\n",
       "      <th></th>\n",
       "      <th>Exports of goods and services (% of GDP)</th>\n",
       "      <th>1961</th>\n",
       "      <th>1962</th>\n",
       "      <th>1963</th>\n",
       "      <th>1964</th>\n",
       "      <th>1965</th>\n",
       "      <th>1966</th>\n",
       "      <th>1967</th>\n",
       "      <th>1968</th>\n",
       "      <th>1969</th>\n",
       "      <th>...</th>\n",
       "      <th>2002</th>\n",
       "      <th>2003</th>\n",
       "      <th>2004</th>\n",
       "      <th>2005</th>\n",
       "      <th>2006</th>\n",
       "      <th>2007</th>\n",
       "      <th>2008</th>\n",
       "      <th>2009</th>\n",
       "      <th>2010</th>\n",
       "      <th>2011</th>\n",
       "    </tr>\n",
       "  </thead>\n",
       "  <tbody>\n",
       "    <tr>\n",
       "      <th>0</th>\n",
       "      <td>Abkhazia</td>\n",
       "      <td>NaN</td>\n",
       "      <td>NaN</td>\n",
       "      <td>NaN</td>\n",
       "      <td>NaN</td>\n",
       "      <td>NaN</td>\n",
       "      <td>NaN</td>\n",
       "      <td>NaN</td>\n",
       "      <td>NaN</td>\n",
       "      <td>NaN</td>\n",
       "      <td>...</td>\n",
       "      <td>NaN</td>\n",
       "      <td>NaN</td>\n",
       "      <td>NaN</td>\n",
       "      <td>NaN</td>\n",
       "      <td>NaN</td>\n",
       "      <td>NaN</td>\n",
       "      <td>NaN</td>\n",
       "      <td>NaN</td>\n",
       "      <td>NaN</td>\n",
       "      <td>NaN</td>\n",
       "    </tr>\n",
       "    <tr>\n",
       "      <th>1</th>\n",
       "      <td>Afghanistan</td>\n",
       "      <td>4.453443</td>\n",
       "      <td>4.878051</td>\n",
       "      <td>9.171601</td>\n",
       "      <td>8.888893</td>\n",
       "      <td>11.258279</td>\n",
       "      <td>8.571429</td>\n",
       "      <td>6.772908</td>\n",
       "      <td>8.899677</td>\n",
       "      <td>10.094637</td>\n",
       "      <td>...</td>\n",
       "      <td>32.438501</td>\n",
       "      <td>42.295500</td>\n",
       "      <td>32.931170</td>\n",
       "      <td>30.550988</td>\n",
       "      <td>27.640178</td>\n",
       "      <td>22.926131</td>\n",
       "      <td>26.676120</td>\n",
       "      <td>22.860093</td>\n",
       "      <td>20.124519</td>\n",
       "      <td>18.106142</td>\n",
       "    </tr>\n",
       "    <tr>\n",
       "      <th>2</th>\n",
       "      <td>Akrotiri and Dhekelia</td>\n",
       "      <td>NaN</td>\n",
       "      <td>NaN</td>\n",
       "      <td>NaN</td>\n",
       "      <td>NaN</td>\n",
       "      <td>NaN</td>\n",
       "      <td>NaN</td>\n",
       "      <td>NaN</td>\n",
       "      <td>NaN</td>\n",
       "      <td>NaN</td>\n",
       "      <td>...</td>\n",
       "      <td>NaN</td>\n",
       "      <td>NaN</td>\n",
       "      <td>NaN</td>\n",
       "      <td>NaN</td>\n",
       "      <td>NaN</td>\n",
       "      <td>NaN</td>\n",
       "      <td>NaN</td>\n",
       "      <td>NaN</td>\n",
       "      <td>NaN</td>\n",
       "      <td>NaN</td>\n",
       "    </tr>\n",
       "    <tr>\n",
       "      <th>3</th>\n",
       "      <td>Albania</td>\n",
       "      <td>NaN</td>\n",
       "      <td>NaN</td>\n",
       "      <td>NaN</td>\n",
       "      <td>NaN</td>\n",
       "      <td>NaN</td>\n",
       "      <td>NaN</td>\n",
       "      <td>NaN</td>\n",
       "      <td>NaN</td>\n",
       "      <td>NaN</td>\n",
       "      <td>...</td>\n",
       "      <td>20.419307</td>\n",
       "      <td>20.619399</td>\n",
       "      <td>21.542118</td>\n",
       "      <td>22.273069</td>\n",
       "      <td>25.090526</td>\n",
       "      <td>28.777169</td>\n",
       "      <td>29.511318</td>\n",
       "      <td>28.411549</td>\n",
       "      <td>32.427471</td>\n",
       "      <td>33.800932</td>\n",
       "    </tr>\n",
       "    <tr>\n",
       "      <th>4</th>\n",
       "      <td>Algeria</td>\n",
       "      <td>46.244557</td>\n",
       "      <td>19.793872</td>\n",
       "      <td>24.684682</td>\n",
       "      <td>25.084059</td>\n",
       "      <td>22.603944</td>\n",
       "      <td>25.986197</td>\n",
       "      <td>23.434417</td>\n",
       "      <td>23.135635</td>\n",
       "      <td>23.788777</td>\n",
       "      <td>...</td>\n",
       "      <td>35.076150</td>\n",
       "      <td>38.266470</td>\n",
       "      <td>40.071885</td>\n",
       "      <td>47.646353</td>\n",
       "      <td>48.607848</td>\n",
       "      <td>46.609494</td>\n",
       "      <td>46.273658</td>\n",
       "      <td>29.289305</td>\n",
       "      <td>30.830405</td>\n",
       "      <td>NaN</td>\n",
       "    </tr>\n",
       "  </tbody>\n",
       "</table>\n",
       "<p>5 rows × 52 columns</p>\n",
       "</div>"
      ],
      "text/plain": [
       "  Exports of goods and services (% of GDP)       1961       1962       1963  \\\n",
       "0                                 Abkhazia        NaN        NaN        NaN   \n",
       "1                              Afghanistan   4.453443   4.878051   9.171601   \n",
       "2                    Akrotiri and Dhekelia        NaN        NaN        NaN   \n",
       "3                                  Albania        NaN        NaN        NaN   \n",
       "4                                  Algeria  46.244557  19.793872  24.684682   \n",
       "\n",
       "        1964       1965       1966       1967       1968       1969  \\\n",
       "0        NaN        NaN        NaN        NaN        NaN        NaN   \n",
       "1   8.888893  11.258279   8.571429   6.772908   8.899677  10.094637   \n",
       "2        NaN        NaN        NaN        NaN        NaN        NaN   \n",
       "3        NaN        NaN        NaN        NaN        NaN        NaN   \n",
       "4  25.084059  22.603944  25.986197  23.434417  23.135635  23.788777   \n",
       "\n",
       "     ...           2002       2003       2004       2005       2006  \\\n",
       "0    ...            NaN        NaN        NaN        NaN        NaN   \n",
       "1    ...      32.438501  42.295500  32.931170  30.550988  27.640178   \n",
       "2    ...            NaN        NaN        NaN        NaN        NaN   \n",
       "3    ...      20.419307  20.619399  21.542118  22.273069  25.090526   \n",
       "4    ...      35.076150  38.266470  40.071885  47.646353  48.607848   \n",
       "\n",
       "        2007       2008       2009       2010       2011  \n",
       "0        NaN        NaN        NaN        NaN        NaN  \n",
       "1  22.926131  26.676120  22.860093  20.124519  18.106142  \n",
       "2        NaN        NaN        NaN        NaN        NaN  \n",
       "3  28.777169  29.511318  28.411549  32.427471  33.800932  \n",
       "4  46.609494  46.273658  29.289305  30.830405        NaN  \n",
       "\n",
       "[5 rows x 52 columns]"
      ]
     },
     "execution_count": 6,
     "metadata": {},
     "output_type": "execute_result"
    }
   ],
   "source": [
    "Exports.head()"
   ]
  },
  {
   "cell_type": "markdown",
   "metadata": {},
   "source": [
    "### Escolhendo o ano:"
   ]
  },
  {
   "cell_type": "code",
   "execution_count": 7,
   "metadata": {},
   "outputs": [],
   "source": [
    "IDH_ano = IDH.loc[:, [\"HDI\", 1980, 1990, 2000, 2005, 2006, 2007, 2008, 2009, 2011]]\n",
    "PIB_ano = PIB.loc[:,[\"Income per person (fixed 2000 US$)\", 1980, 1990, 2000, 2005, 2006, 2007, 2008, 2009, 2011]]\n",
    "Exports_ano = Exports.loc[:, [\"Exports of goods and services (% of GDP)\", 1980, 1990, 2000, 2005, 2006, 2007, 2008, 2009, 2011]]"
   ]
  },
  {
   "cell_type": "code",
   "execution_count": 8,
   "metadata": {},
   "outputs": [],
   "source": [
    "# IDH_ano.head()"
   ]
  },
  {
   "cell_type": "code",
   "execution_count": 9,
   "metadata": {
    "scrolled": true
   },
   "outputs": [],
   "source": [
    "# PIB_ano.head()"
   ]
  },
  {
   "cell_type": "code",
   "execution_count": 10,
   "metadata": {},
   "outputs": [],
   "source": [
    "# Exports_ano.head()"
   ]
  },
  {
   "cell_type": "markdown",
   "metadata": {},
   "source": [
    "### Mudando o índice: "
   ]
  },
  {
   "cell_type": "code",
   "execution_count": 11,
   "metadata": {},
   "outputs": [],
   "source": [
    "IDH_idx = IDH_ano.set_index('HDI')\n",
    "# IDH_idx.head()"
   ]
  },
  {
   "cell_type": "code",
   "execution_count": 12,
   "metadata": {},
   "outputs": [],
   "source": [
    "PIB_idx = PIB_ano.set_index('Income per person (fixed 2000 US$)')\n",
    "# PIB_idx.head()"
   ]
  },
  {
   "cell_type": "code",
   "execution_count": 13,
   "metadata": {},
   "outputs": [],
   "source": [
    "Exports_idx = Exports_ano.set_index('Exports of goods and services (% of GDP)')\n",
    "# Exports_idx.head()"
   ]
  },
  {
   "cell_type": "markdown",
   "metadata": {},
   "source": [
    "### Adicionando coluna da UE"
   ]
  },
  {
   "cell_type": "code",
   "execution_count": 14,
   "metadata": {},
   "outputs": [],
   "source": [
    "# i = 0\n",
    "# for e in PIB_idx.index:\n",
    "#     if e not in IDH_idx.index:\n",
    "#         i+=1\n",
    "#         print(e)\n",
    "# print(i, \"países diferentes!!\")\n",
    "        \n",
    "# ### Os DataFrames possuem número diferente de países !!!"
   ]
  },
  {
   "cell_type": "code",
   "execution_count": 15,
   "metadata": {},
   "outputs": [],
   "source": [
    "# i = 0\n",
    "# for e in PIB_idx.index:\n",
    "#     if e not in Exports_idx.index:\n",
    "#         i+=1\n",
    "#         print(e)\n",
    "# print(i, \"países diferentes!!\")\n",
    "        \n",
    "# ### Os DataFrames possuem número diferente de países !!!"
   ]
  },
  {
   "cell_type": "code",
   "execution_count": 16,
   "metadata": {},
   "outputs": [],
   "source": [
    "# Para o PIB:\n",
    "Uniao_Europeia_PIB = []\n",
    "for e in PIB_idx.index: \n",
    "    if e in UE: \n",
    "        Uniao_Europeia_PIB.append(True)\n",
    "    else: \n",
    "        Uniao_Europeia_PIB.append(False)\n",
    "        \n",
    "# Para o IDH:\n",
    "Uniao_Europeia_IDH = []\n",
    "for e in IDH_idx.index: \n",
    "    if e in UE: \n",
    "        Uniao_Europeia_IDH.append(True)\n",
    "    else: \n",
    "        Uniao_Europeia_IDH.append(False)\n",
    "               \n",
    "# Para o IDH:\n",
    "Uniao_Europeia_Exports = []\n",
    "for e in Exports_idx.index: \n",
    "    if e in UE: \n",
    "        Uniao_Europeia_Exports.append(True)\n",
    "    else: \n",
    "        Uniao_Europeia_Exports.append(False)        "
   ]
  },
  {
   "cell_type": "code",
   "execution_count": 17,
   "metadata": {},
   "outputs": [],
   "source": [
    "PIB_idx[\"União Europeia\"] = Uniao_Europeia_PIB\n",
    "# PIB_idx.head()"
   ]
  },
  {
   "cell_type": "code",
   "execution_count": 18,
   "metadata": {},
   "outputs": [],
   "source": [
    "IDH_idx[\"União Europeia\"] = Uniao_Europeia_IDH\n",
    "# IDH_idx.head()"
   ]
  },
  {
   "cell_type": "code",
   "execution_count": 19,
   "metadata": {},
   "outputs": [],
   "source": [
    "Exports_idx[\"União Europeia\"] = Uniao_Europeia_Exports\n",
    "# Exports_idx.head()"
   ]
  },
  {
   "cell_type": "markdown",
   "metadata": {},
   "source": [
    "### Filtrando os países: "
   ]
  },
  {
   "cell_type": "code",
   "execution_count": 20,
   "metadata": {},
   "outputs": [],
   "source": [
    "IDH_country = IDH_idx.loc[[\"Cyprus\",\"Czech Republic\",\"Estonia\",\"Hungary\",\"Latvia\",\"Lithuania\",\"Malta\",\"Poland\",\"Slovak Republic\",\n",
    "                           \"Slovenia\"],:]\n",
    "# IDH_country"
   ]
  },
  {
   "cell_type": "code",
   "execution_count": 21,
   "metadata": {},
   "outputs": [],
   "source": [
    "PIB_country = PIB_idx.loc[[\"Cyprus\",\"Czech Republic\",\"Estonia\",\"Hungary\",\"Latvia\",\"Lithuania\",\"Malta\",\n",
    "                           \"Poland\",\"Slovak Republic\",\"Slovenia\"],:]\n",
    "# PIB_country"
   ]
  },
  {
   "cell_type": "code",
   "execution_count": 22,
   "metadata": {
    "scrolled": false
   },
   "outputs": [],
   "source": [
    "Exports_country = Exports_idx.loc[[\"Cyprus\",\"Czech Republic\",\"Estonia\",\"Hungary\",\"Latvia\",\"Lithuania\",\"Malta\",\n",
    "                                   \"Poland\",\"Slovak Republic\",\"Slovenia\"],:]\n",
    "# Exports_country"
   ]
  },
  {
   "cell_type": "markdown",
   "metadata": {},
   "source": [
    "### Criando um grupo de controle:"
   ]
  },
  {
   "cell_type": "code",
   "execution_count": 23,
   "metadata": {
    "scrolled": true
   },
   "outputs": [],
   "source": [
    "IDH_controle = IDH_idx.loc[[\"France\", \"Germany\", \"United Kingdom\", \"Italy\"],:]\n",
    "# IDH_controle"
   ]
  },
  {
   "cell_type": "code",
   "execution_count": 24,
   "metadata": {},
   "outputs": [],
   "source": [
    "PIB_controle = PIB_idx.loc[[\"France\", \"Germany\", \"United Kingdom\", \"Italy\"],:]\n",
    "# PIB_controle"
   ]
  },
  {
   "cell_type": "code",
   "execution_count": 25,
   "metadata": {},
   "outputs": [],
   "source": [
    "Exports_controle = Exports_idx.loc[[\"France\", \"Germany\", \"United Kingdom\", \"Italy\"],:]\n",
    "# Exports_controle"
   ]
  },
  {
   "cell_type": "markdown",
   "metadata": {},
   "source": [
    "### Juntando os DataFrames:"
   ]
  },
  {
   "cell_type": "code",
   "execution_count": 26,
   "metadata": {},
   "outputs": [],
   "source": [
    "Analise = IDH_country.join(PIB_country, how='inner', lsuffix='_IDH', rsuffix='_PIB')\n",
    "Analise = Analise.join(Exports_country, how=\"left\", lsuffix =\" \", rsuffix='_Exports')\n",
    "# Analise.head()"
   ]
  },
  {
   "cell_type": "code",
   "execution_count": 27,
   "metadata": {},
   "outputs": [],
   "source": [
    "def reta(dados_x, dados_y, c):    \n",
    "    a = dados_y.cov(dados_x) / dados_x.var()\n",
    "    b = dados_y.mean() - a*dados_x.mean()\n",
    "\n",
    "    \n",
    "    plt.scatter(dados_x, dados_y, c=c, alpha=0.8)\n",
    "    plt.xlabel('eixo x')\n",
    "    plt.ylabel('eixo y')\n",
    "    plt.plot((dados_x.min(), dados_x.max()), (a*dados_x.min()+b, a*dados_x.max()+b), color=c)\n",
    "\n",
    "    plt.tight_layout()"
   ]
  },
  {
   "cell_type": "code",
   "execution_count": 36,
   "metadata": {},
   "outputs": [
    {
     "data": {
      "image/png": "[encoded data removed]",
      "text/plain": [
       "<Figure size 432x288 with 1 Axes>"
      ]
     },
     "metadata": {},
     "output_type": "display_data"
    },
    {
     "data": {
      "image/png": "[encoded data removed]",
      "text/plain": [
       "<Figure size 432x288 with 1 Axes>"
      ]
     },
     "metadata": {},
     "output_type": "display_data"
    }
   ],
   "source": [
    "PIB_country.loc[:,[2000, 2005, 2011]].plot.bar(title = \"PIB - Análise\");\n",
    "PIB_controle.loc[:,[2000, 2005, 2011]].plot.bar(title = \"PIB - Controle\");\n"
   ]
  },
  {
   "cell_type": "code",
   "execution_count": 37,
   "metadata": {},
   "outputs": [
    {
     "data": {
      "image/png": "[encoded data removed]",
      "text/plain": [
       "<Figure size 432x288 with 1 Axes>"
      ]
     },
     "metadata": {},
     "output_type": "display_data"
    },
    {
     "data": {
      "image/png": "[encoded data removed]",
      "text/plain": [
       "<Figure size 432x288 with 1 Axes>"
      ]
     },
     "metadata": {},
     "output_type": "display_data"
    }
   ],
   "source": [
    "IDH_country.loc[:,[2000, 2005, 2011]].plot.bar(title = \"IDH - Análise\");\n",
    "IDH_controle.loc[:,[2000, 2005, 2011]].plot.bar(title = \"IDH - Controle\");"
   ]
  },
  {
   "cell_type": "code",
   "execution_count": 38,
   "metadata": {},
   "outputs": [
    {
     "data": {
      "image/png": "[encoded data removed]",
      "text/plain": [
       "<Figure size 432x288 with 1 Axes>"
      ]
     },
     "metadata": {},
     "output_type": "display_data"
    },
    {
     "data": {
      "image/png": "[encoded data removed]",
      "text/plain": [
       "<Figure size 432x288 with 1 Axes>"
      ]
     },
     "metadata": {},
     "output_type": "display_data"
    }
   ],
   "source": [
    "Exports_country.loc[:,[2000, 2005, 2011]].plot.bar(title = \"Exportações - Análise\");\n",
    "Exports_controle.loc[:,[2000, 2005, 2011]].plot.bar(title = \"Exportações - Controle\");"
   ]
  },
  {
   "cell_type": "markdown",
   "metadata": {},
   "source": [
    "** Nos gráficos de barras acima foram analisados a evolução temporal do IDH, PIB per capita e Exportação no grupo de controle e análise. Pode-se observar uma melhora significativa em todas as variáveis, destaque para o IDH que deu um \"salto\" entre os anos de 2000 e 2005 (sendo que o ano de ingresso na UE foi 2004).  **"
   ]
  },
  {
   "cell_type": "code",
   "execution_count": 31,
   "metadata": {
    "scrolled": true
   },
   "outputs": [
    {
     "data": {
      "image/png": "[encoded data removed]",
      "text/plain": [
       "<Figure size 1656x360 with 3 Axes>"
      ]
     },
     "metadata": {},
     "output_type": "display_data"
    }
   ],
   "source": [
    "fig = plt.figure(figsize=(23,5))\n",
    "\n",
    "\n",
    "plt.subplot(1,3,1)\n",
    "plt.scatter(Exports_country.loc[:,2000], IDH_country.loc[:,2000], label = (\"Análise\"), c = \"r\")\n",
    "plt.scatter(Exports_controle.loc[:,2000], IDH_controle.loc[:,2000], label = (\"Controle\"), c = \"b\")\n",
    "plt.legend()\n",
    "reta(Exports_country.loc[:,2000], IDH_country.loc[:,2000], \"r\")\n",
    "reta(Exports_controle.loc[:,2000], IDH_controle.loc[:,2000], \"b\")\n",
    "plt.title(\"2000\")\n",
    "plt.xlabel(\"Exports (% do PIB)\")\n",
    "plt.ylabel(\"IDH\")\n",
    "plt.grid(True)\n",
    "\n",
    "plt.subplot(1,3,2)\n",
    "plt.scatter(Exports_country.loc[:,2005], IDH_country.loc[:,2005], label = (\"Análise\"), c = \"r\")\n",
    "plt.scatter(Exports_controle.loc[:,2005], IDH_controle.loc[:,2005], label = (\"Controle\"), c = \"b\")\n",
    "plt.legend()\n",
    "reta(Exports_country.loc[:,2005], IDH_country.loc[:,2005], \"r\")\n",
    "reta(Exports_controle.loc[:,2005], IDH_controle.loc[:,2005], \"b\")\n",
    "plt.title(\"2005\")\n",
    "plt.xlabel(\"Exports (% do PIB)\")\n",
    "plt.ylabel(\"IDH\")\n",
    "plt.grid(True)\n",
    "\n",
    "plt.subplot(1,3,3)\n",
    "plt.scatter(Exports_country.loc[:,2011], IDH_country.loc[:,2011], label = (\"Análise\"), c = \"r\")\n",
    "plt.scatter(Exports_controle.loc[:,2011], IDH_controle.loc[:,2011], label = (\"Controle\"), c = \"b\")\n",
    "plt.legend()\n",
    "reta(Exports_country.loc[:,2011], IDH_country.loc[:,2011], \"r\")\n",
    "reta(Exports_controle.loc[:,2011], IDH_controle.loc[:,2011], \"b\")\n",
    "plt.title(\"2011\")\n",
    "plt.xlabel(\"Exports (% do PIB)\")\n",
    "plt.ylabel(\"IDH\")\n",
    "plt.grid(True)\n",
    "\n",
    "plt.show()"
   ]
  },
  {
   "cell_type": "markdown",
   "metadata": {},
   "source": [
    "** Nos gráficos de dispersão acima foram analisados o IDH pela taxa de Exportações. Pode-se observar uma evolução em ambos, vale observar que o grupo de controle (constituído pela França, Alemanha, Reino Unido e Italia) tem a sua reta de tendência \"puxada para cima\" devido ao alto IDH da alemanha, visto que a taxa de exportação do grupo de análise tenha praticamente dobrado em média. **"
   ]
  },
  {
   "cell_type": "code",
   "execution_count": 49,
   "metadata": {
    "scrolled": true
   },
   "outputs": [
    {
     "name": "stdout",
     "output_type": "stream",
     "text": [
      "2000:  Média de IDH - Análise:  0.78             | Média de IDH - Controle: 0.842\n",
      "       Média do PIB - Análise:  6460.83          | Média do PIB - Controle: 22291.649\n",
      "       Média de Exportações - Análise:  60.371 % | Média de Exportações - Controle: 29.17\n",
      "\n",
      "2005:  Média de IDH - Análise:  0.814            | Média de IDH - Controle: 0.87\n",
      "       Média do PIB - Análise:  7712.084         | Média do PIB - Controle: 23608.654\n",
      "       Média de Exportações - Análise:  61.413 % | Média de Exportações - Controle: 30.128\n",
      "\n",
      "2011:  Média de IDH - Análise:  0.833            | Média de IDH - Controle: 0.882\n",
      "       Média do PIB - Análise:  8615.097         | Média do PIB - Controle: 24108.263\n",
      "       Média de Exportações - Análise:  81.594 % | Média de Exportações - Controle: 34.616\n"
     ]
    }
   ],
   "source": [
    "print(\"2000: \", \"Média de IDH - Análise: \",round(IDH_country.loc[:,2000].mean(),3), \"            |\",\"Média de IDH - Controle:\",round(IDH_controle.loc[:,2000].mean(),3))\n",
    "print(\"      \", \"Média do PIB - Análise: \",round(PIB_country.loc[:,2000].mean(), 3), \"         |\",\"Média do PIB - Controle:\", round(PIB_controle.loc[:,2000].mean(), 3))\n",
    "print(\"      \", \"Média de Exportações - Análise: \",round(Exports_country.loc[:,2000].mean(), 3),\"%\", \"|\",\"Média de Exportações - Controle:\", round(Exports_controle.loc[:,2000].mean(), 3))\n",
    "print(\"\")\n",
    "print(\"2005: \", \"Média de IDH - Análise: \",round(IDH_country.loc[:,2005].mean(),3), \"           |\",\"Média de IDH - Controle:\",round(IDH_controle.loc[:,2005].mean(),3))\n",
    "print(\"      \", \"Média do PIB - Análise: \",round(PIB_country.loc[:,2005].mean(), 3), \"        |\",\"Média do PIB - Controle:\", round(PIB_controle.loc[:,2005].mean(), 3))\n",
    "print(\"      \", \"Média de Exportações - Análise: \",round(Exports_country.loc[:,2005].mean(), 3),\"%\", \"|\",\"Média de Exportações - Controle:\", round(Exports_controle.loc[:,2005].mean(), 3))\n",
    "print(\"\")\n",
    "print(\"2011: \", \"Média de IDH - Análise: \",round(IDH_country.loc[:,2011].mean(),3), \"           |\",\"Média de IDH - Controle:\",round(IDH_controle.loc[:,2011].mean(),3))\n",
    "print(\"      \", \"Média do PIB - Análise: \",round(PIB_country.loc[:,2011].mean(), 3), \"        |\",\"Média do PIB - Controle:\", round(PIB_controle.loc[:,2011].mean(), 3))\n",
    "print(\"      \", \"Média de Exportações - Análise: \",round(Exports_country.loc[:,2011].mean(), 3),\"%\", \"|\",\"Média de Exportações - Controle:\", round(Exports_controle.loc[:,2011].mean(), 3))\n",
    "\n"
   ]
  },
  {
   "cell_type": "markdown",
   "metadata": {},
   "source": [
    "** Nessa tabela é bem notável o aumento do IDH médio no grupo de análise entre os anos de 2000 e 2005, se aproximando do grupo de controle em 2011. Vale notar que a taxa de exportação média do grupo de controle é menor do que a taxa do grupo de análise, embora o PIB do grupo de controle aida seja muito mais alto.  **"
   ]
  },
  {
   "cell_type": "code",
   "execution_count": 33,
   "metadata": {},
   "outputs": [
    {
     "data": {
      "image/png": "[encoded data removed]",
      "text/plain": [
       "<Figure size 432x288 with 1 Axes>"
      ]
     },
     "metadata": {},
     "output_type": "display_data"
    }
   ],
   "source": [
    "labels = ['Analise 2000', \"Controle 2000\", 'Analise 2005', \"Controle 2005\", 'Analise 2011', \"Controle 2011\"]\n",
    "\n",
    "data = [IDH_country[2000], IDH_controle[2000], IDH_country[2005],IDH_controle[2005], IDH_country[2011],IDH_controle[2011]]\n",
    "fig, ax = plt.subplots()\n",
    "ax.boxplot(data)\n",
    "ax.set_xticklabels(labels, rotation=45, fontsize=10)\n",
    "plt.title(\"IDH\")\n",
    "plt.grid(True)\n",
    "\n",
    "plt.show()"
   ]
  },
  {
   "cell_type": "code",
   "execution_count": 34,
   "metadata": {},
   "outputs": [
    {
     "data": {
      "image/png": "[encoded data removed]",
      "text/plain": [
       "<Figure size 432x288 with 1 Axes>"
      ]
     },
     "metadata": {},
     "output_type": "display_data"
    }
   ],
   "source": [
    "labels = ['Analise 2000', \"Controle 2000\", 'Analise 2005', \"Controle 2005\", 'Analise 2011', \"Controle 2011\"]\n",
    "\n",
    "data = [PIB_country[2000], PIB_controle[2000], PIB_country[2005],PIB_controle[2005], PIB_country[2011],PIB_controle[2011]]\n",
    "fig, ax = plt.subplots()\n",
    "ax.boxplot(data)\n",
    "ax.set_xticklabels(labels, rotation=45, fontsize=10)\n",
    "plt.title(\"PIB\")\n",
    "plt.grid(True)\n",
    "\n",
    "plt.show()"
   ]
  },
  {
   "cell_type": "code",
   "execution_count": null,
   "metadata": {},
   "outputs": [],
   "source": []
  }
 ],
 "metadata": {
  "kernelspec": {
   "display_name": "Python 3",
   "language": "python",
   "name": "python3"
  },
  "language_info": {
   "codemirror_mode": {
    "name": "ipython",
    "version": 3
   },
   "file_extension": ".py",
   "mimetype": "text/x-python",
   "name": "python",
   "nbconvert_exporter": "python",
   "pygments_lexer": "ipython3",
   "version": "3.6.5"
  }
 },
 "nbformat": 4,
 "nbformat_minor": 2
}
